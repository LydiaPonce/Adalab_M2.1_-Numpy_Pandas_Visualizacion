{
 "cells": [
  {
   "cell_type": "markdown",
   "metadata": {},
   "source": [
    "**Empezamos nuevo bloque de ejercicios de pair programming de NumPy.**\n",
    "\n",
    "**En el ejercicio de hoy vamos a empezar a trabajar con NumPy. El objetivo de estos ejericicios es que creeis una serie de arrays, y hagáis una serie de operaciones matemáticas con ellos.**"
   ]
  },
  {
   "cell_type": "code",
   "execution_count": 1,
   "metadata": {},
   "outputs": [],
   "source": [
    "import numpy as np"
   ]
  },
  {
   "cell_type": "markdown",
   "metadata": {},
   "source": [
    "**1. Cread tres arrays: de una, dos y tres dimensiones.**\n",
    "\n",
    "**Lo podéis hacer usando los métodos de random que hemos aprendido o a través de listas em algunos casos.**\n",
    "\n",
    "**📌 Nota**\n",
    "\n",
    "- **El array de 2 dimensiones debe ser de 2 filas y 3 columnas.**\n",
    "- **El array de 3 dimensiones debe ser de 2 matrices, 3 filas y 5 columnas.**"
   ]
  },
  {
   "cell_type": "code",
   "execution_count": 2,
   "metadata": {},
   "outputs": [
    {
     "name": "stdout",
     "output_type": "stream",
     "text": [
      "Array 1 dimension: [1 2 3]\n",
      "Array 2 dimensiones: [[[0.03413219 0.93940571 0.14220484]\n",
      "  [0.57495401 0.45551729 0.00622169]]\n",
      "\n",
      " [[0.77338464 0.31124018 0.49629057]\n",
      "  [0.4408163  0.25194092 0.42330969]]]\n",
      "Array multidimensional: [[[0.59021385 0.36435104 0.50820189 0.18744022 0.98885084]\n",
      "  [0.83043241 0.75523747 0.42050663 0.84182247 0.85965776]\n",
      "  [0.38083339 0.59645509 0.88255712 0.00481151 0.91639513]]\n",
      "\n",
      " [[0.29470774 0.59779862 0.09273716 0.03325381 0.97047456]\n",
      "  [0.63125937 0.54634978 0.19411593 0.30247091 0.54902384]\n",
      "  [0.62878913 0.78613947 0.4914036  0.03988693 0.43638404]]]\n"
     ]
    }
   ],
   "source": [
    "\n",
    "lista = [1,2,3]\n",
    "array = np.array(lista)\n",
    "print(\"Array 1 dimension:\", array)\n",
    "\n",
    "\n",
    "array1 = np.random.rand(2,2,3)\n",
    "print(\"Array 2 dimensiones:\",array1)\n",
    "\n",
    "\n",
    "array2 = np.random.rand(2,3,5)\n",
    "print(\"Array multidimensional:\", array2)"
   ]
  },
  {
   "cell_type": "markdown",
   "metadata": {},
   "source": [
    "**2. Chequed las las propiedades básicas de cada array que os hayáis creado. Usad en una función que nos devuelva las propiedades de una array que le pasemos.**"
   ]
  },
  {
   "cell_type": "code",
   "execution_count": 3,
   "metadata": {},
   "outputs": [
    {
     "name": "stdout",
     "output_type": "stream",
     "text": [
      "(2, 2, 3)\n",
      "12\n",
      "3\n",
      "float64\n"
     ]
    }
   ],
   "source": [
    "def propiedades (array):\n",
    "\n",
    "    print(array.shape)\n",
    "    print(array.size)\n",
    "    print(array.ndim)\n",
    "    print(array.dtype)\n",
    "\n",
    "propiedades(array1)\n"
   ]
  },
  {
   "cell_type": "markdown",
   "metadata": {},
   "source": [
    "**3. Cread una matriz identidad de dos dimensiones de 3 filas y 3 columnas**"
   ]
  },
  {
   "cell_type": "code",
   "execution_count": 4,
   "metadata": {},
   "outputs": [
    {
     "name": "stdout",
     "output_type": "stream",
     "text": [
      "[[1. 0. 0.]\n",
      " [0. 1. 0.]\n",
      " [0. 0. 1.]]\n",
      "[[1. 0. 0.]\n",
      " [0. 1. 0.]\n",
      " [0. 0. 1.]]\n"
     ]
    }
   ],
   "source": [
    "array3 = np.eye (3,3) #si permite mover la diagonal\n",
    "print(array3)\n",
    "\n",
    "array4 = np.identity (3) #no permite mover la diagonal\n",
    "print(array4)"
   ]
  },
  {
   "cell_type": "markdown",
   "metadata": {},
   "source": [
    "**4. Cread una matriz de tres dimensiones de unos igual a la martiz de tres dimensiones creada en el primer ejercicio.**"
   ]
  },
  {
   "cell_type": "code",
   "execution_count": 5,
   "metadata": {},
   "outputs": [
    {
     "name": "stdout",
     "output_type": "stream",
     "text": [
      "[[[0.59021385 0.36435104 0.50820189 0.18744022 0.98885084]\n",
      "  [0.83043241 0.75523747 0.42050663 0.84182247 0.85965776]\n",
      "  [0.38083339 0.59645509 0.88255712 0.00481151 0.91639513]]\n",
      "\n",
      " [[0.29470774 0.59779862 0.09273716 0.03325381 0.97047456]\n",
      "  [0.63125937 0.54634978 0.19411593 0.30247091 0.54902384]\n",
      "  [0.62878913 0.78613947 0.4914036  0.03988693 0.43638404]]]\n"
     ]
    }
   ],
   "source": [
    "#array2 = np.random.rand(2,3,5)\n",
    "#print(array2)\n",
    "\n",
    "array5 = np.empty_like(array2)\n",
    "print(array5)"
   ]
  },
  {
   "cell_type": "markdown",
   "metadata": {},
   "source": [
    "**5. Es el momento de hacer algunas operaciones entre arrays**\n",
    "\n",
    "- **¿Se puede sumar el array de dos dimensiones que creamos en el primer ejecicios a la matriz identidad? ¿Por qué?**\n"
   ]
  },
  {
   "cell_type": "code",
   "execution_count": null,
   "metadata": {},
   "outputs": [],
   "source": [
    "array1 = np.random.rand(2,2,3)\n",
    "array4 = np.identity (3)\n",
    "\n",
    "array6 = np.add(array1,array4)\n",
    "print(array6)\n",
    "\n",
    "# No se puede sumar por que no tienen la misma forma."
   ]
  },
  {
   "cell_type": "markdown",
   "metadata": {},
   "source": [
    "- **En caso de que no se puedan sumar, busca una solución para sumar una matriz identidad a otra. La solución puede ser crear un array nuevo.**"
   ]
  },
  {
   "cell_type": "code",
   "execution_count": 7,
   "metadata": {},
   "outputs": [
    {
     "name": "stdout",
     "output_type": "stream",
     "text": [
      "[[[0.58284763 0.18271297 0.70057675]\n",
      "  [0.81339637 0.7608641  0.01666771]]\n",
      "\n",
      " [[0.07281987 0.08133908 0.20846806]\n",
      "  [0.79741301 0.56423951 0.3931203 ]]]\n",
      "[[[1. 1. 1.]\n",
      "  [1. 1. 1.]]\n",
      "\n",
      " [[1. 1. 1.]\n",
      "  [1. 1. 1.]]]\n",
      "Suma: [[[1.58284763 1.18271297 1.70057675]\n",
      "  [1.81339637 1.7608641  1.01666771]]\n",
      "\n",
      " [[1.07281987 1.08133908 1.20846806]\n",
      "  [1.79741301 1.56423951 1.3931203 ]]]\n"
     ]
    }
   ],
   "source": [
    "array1 = np.random.rand(2,2,3)\n",
    "print(array1)\n",
    "\n",
    "array4 = np.ones_like(array1)\n",
    "print(array4)"
   ]
  },
  {
   "cell_type": "code",
   "execution_count": 8,
   "metadata": {},
   "outputs": [
    {
     "name": "stdout",
     "output_type": "stream",
     "text": [
      "Suma: [[[1.58284763 1.18271297 1.70057675]\n",
      "  [1.81339637 1.7608641  1.01666771]]\n",
      "\n",
      " [[1.07281987 1.08133908 1.20846806]\n",
      "  [1.79741301 1.56423951 1.3931203 ]]]\n"
     ]
    }
   ],
   "source": [
    "suma = array1 + array4\n",
    "suma = np.add(array1,array4) \n",
    "print(\"Suma:\",suma)"
   ]
  },
  {
   "cell_type": "markdown",
   "metadata": {},
   "source": [
    "- **Multiplicad la matriz identidad por la nueva matriz que os creasteis en el ejercicio anterior.**"
   ]
  },
  {
   "cell_type": "code",
   "execution_count": 9,
   "metadata": {},
   "outputs": [
    {
     "name": "stdout",
     "output_type": "stream",
     "text": [
      "Multiplicar: [[[0.58284763 0.18271297 0.70057675]\n",
      "  [0.81339637 0.7608641  0.01666771]]\n",
      "\n",
      " [[0.07281987 0.08133908 0.20846806]\n",
      "  [0.79741301 0.56423951 0.3931203 ]]]\n"
     ]
    }
   ],
   "source": [
    "multi = array1 * array4\n",
    "multiplicar = np.multiply(array1,array4) \n",
    "print(\"Multiplicar:\", multi)"
   ]
  },
  {
   "cell_type": "markdown",
   "metadata": {},
   "source": [
    "- **Dividid las dos matrices**"
   ]
  },
  {
   "cell_type": "code",
   "execution_count": 10,
   "metadata": {},
   "outputs": [
    {
     "name": "stdout",
     "output_type": "stream",
     "text": [
      "Dividir: [[[0.58284763 0.18271297 0.70057675]\n",
      "  [0.81339637 0.7608641  0.01666771]]\n",
      "\n",
      " [[0.07281987 0.08133908 0.20846806]\n",
      "  [0.79741301 0.56423951 0.3931203 ]]]\n"
     ]
    }
   ],
   "source": [
    "div = array1 / array4\n",
    "dividir = np.divide(array1,array4) \n",
    "print(\"Dividir:\", div)"
   ]
  }
 ],
 "metadata": {
  "interpreter": {
   "hash": "40d3a090f54c6569ab1632332b64b2c03c39dcf918b08424e98f38b5ae0af88f"
  },
  "kernelspec": {
   "display_name": "Python 3.9.7 ('base')",
   "language": "python",
   "name": "python3"
  },
  "language_info": {
   "codemirror_mode": {
    "name": "ipython",
    "version": 3
   },
   "file_extension": ".py",
   "mimetype": "text/x-python",
   "name": "python",
   "nbconvert_exporter": "python",
   "pygments_lexer": "ipython3",
   "version": "3.9.7"
  },
  "orig_nbformat": 4
 },
 "nbformat": 4,
 "nbformat_minor": 2
}
