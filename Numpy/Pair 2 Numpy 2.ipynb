{
 "cells": [
  {
   "cell_type": "code",
   "execution_count": 2,
   "metadata": {},
   "outputs": [],
   "source": [
    "import numpy as np"
   ]
  },
  {
   "cell_type": "markdown",
   "metadata": {},
   "source": [
    "**1. Cread un array de dos dimensiones de 5 filas y 3 columnas. Sobre el array creado anteriormente, extraed:**\n",
    "**anteriormente, extraed:**"
   ]
  },
  {
   "cell_type": "code",
   "execution_count": 4,
   "metadata": {},
   "outputs": [
    {
     "data": {
      "text/plain": [
       "array([[0.5771731 , 0.38704098, 0.72825127],\n",
       "       [0.88815673, 0.0975105 , 0.31060616],\n",
       "       [0.4308234 , 0.31576254, 0.35814817],\n",
       "       [0.44932902, 0.00881954, 0.67663716],\n",
       "       [0.32478538, 0.00944259, 0.12505365]])"
      ]
     },
     "execution_count": 4,
     "metadata": {},
     "output_type": "execute_result"
    }
   ],
   "source": [
    "array= np.random.rand (5,3)\n",
    "array"
   ]
  },
  {
   "cell_type": "markdown",
   "metadata": {},
   "source": []
  },
  {
   "cell_type": "markdown",
   "metadata": {},
   "source": [
    "\n",
    "- **El valor de la primera fila y la segunda columna.**"
   ]
  },
  {
   "cell_type": "code",
   "execution_count": 5,
   "metadata": {},
   "outputs": [
    {
     "data": {
      "text/plain": [
       "0.3870409822338019"
      ]
     },
     "execution_count": 5,
     "metadata": {},
     "output_type": "execute_result"
    }
   ],
   "source": [
    "array[0,1] "
   ]
  },
  {
   "cell_type": "markdown",
   "metadata": {},
   "source": [
    "- **Los valores de la segunda fila y las dos primeras columnas.**"
   ]
  },
  {
   "cell_type": "code",
   "execution_count": 7,
   "metadata": {},
   "outputs": [
    {
     "data": {
      "text/plain": [
       "array([0.88815673, 0.0975105 ])"
      ]
     },
     "execution_count": 7,
     "metadata": {},
     "output_type": "execute_result"
    }
   ],
   "source": [
    "array[1,:2] "
   ]
  },
  {
   "cell_type": "markdown",
   "metadata": {},
   "source": [
    "- **Extraed las filas pares (incluyendo la 0) y todas las columnas.**"
   ]
  },
  {
   "cell_type": "code",
   "execution_count": 10,
   "metadata": {},
   "outputs": [
    {
     "data": {
      "text/plain": [
       "array([[0.5771731 , 0.38704098, 0.72825127],\n",
       "       [0.4308234 , 0.31576254, 0.35814817],\n",
       "       [0.32478538, 0.00944259, 0.12505365]])"
      ]
     },
     "execution_count": 10,
     "metadata": {},
     "output_type": "execute_result"
    }
   ],
   "source": [
    "array [::2,:]"
   ]
  },
  {
   "cell_type": "markdown",
   "metadata": {},
   "source": [
    "- **Extraed los valores que sean mayores que 0.5.**"
   ]
  },
  {
   "cell_type": "code",
   "execution_count": 12,
   "metadata": {},
   "outputs": [
    {
     "data": {
      "text/plain": [
       "array([0.5771731 , 0.72825127, 0.88815673, 0.67663716])"
      ]
     },
     "execution_count": 12,
     "metadata": {},
     "output_type": "execute_result"
    }
   ],
   "source": [
    "#array > 0.5   #Esto devuelve true/false\n",
    " array [array > 0.5]"
   ]
  },
  {
   "cell_type": "markdown",
   "metadata": {},
   "source": [
    "- **Extraed los valores menores que 0.2 o mayores que 0.5**"
   ]
  },
  {
   "cell_type": "code",
   "execution_count": 13,
   "metadata": {},
   "outputs": [
    {
     "data": {
      "text/plain": [
       "array([0.5771731 , 0.72825127, 0.88815673, 0.0975105 , 0.00881954,\n",
       "       0.67663716, 0.00944259, 0.12505365])"
      ]
     },
     "execution_count": 13,
     "metadata": {},
     "output_type": "execute_result"
    }
   ],
   "source": [
    "array [(array<0.2) | (array > 0.5)]"
   ]
  },
  {
   "cell_type": "markdown",
   "metadata": {},
   "source": [
    "**2. Cread dos array de tres dimensiones:**"
   ]
  },
  {
   "cell_type": "markdown",
   "metadata": {},
   "source": [
    "- **El primero de 2 matrices, 5 filas y 3 columnas.**\n",
    "\n",
    "- **El segundo de 3 matrices, 2 filas y 5 columnas.**"
   ]
  },
  {
   "cell_type": "code",
   "execution_count": 16,
   "metadata": {},
   "outputs": [
    {
     "data": {
      "text/plain": [
       "array([[[ 6, 18, 48, 33, 32],\n",
       "        [47, 21, 30, 19,  7]],\n",
       "\n",
       "       [[21, 40,  2,  9, 15],\n",
       "        [11, 17, 37,  7,  0]],\n",
       "\n",
       "       [[24,  2,  5, 47, 42],\n",
       "        [ 3,  5,  6,  5, 44]]])"
      ]
     },
     "execution_count": 16,
     "metadata": {},
     "output_type": "execute_result"
    }
   ],
   "source": [
    "array2 = np.random.randint(0,50, (2,5,3))\n",
    "array3 = np.random.randint(0,50, (3,2,5))"
   ]
  },
  {
   "cell_type": "markdown",
   "metadata": {},
   "source": [
    "- **Haced un análisis exploratorio de los array creados. Recordad que en el ejercicio de ayer nos creamos una función para esto.**"
   ]
  },
  {
   "cell_type": "code",
   "execution_count": 17,
   "metadata": {},
   "outputs": [
    {
     "name": "stdout",
     "output_type": "stream",
     "text": [
      "(2, 5, 3)\n",
      "30\n",
      "3\n",
      "int64\n"
     ]
    }
   ],
   "source": [
    "def propiedades (array):\n",
    "\n",
    "    print(array.shape)\n",
    "    print(array.size)\n",
    "    print(array.ndim)\n",
    "    print(array.dtype)\n",
    "\n",
    "propiedades(array2)"
   ]
  },
  {
   "cell_type": "markdown",
   "metadata": {},
   "source": [
    "- **Sumad los dos arrays. ¿Podéis? ¿Por qué?**"
   ]
  },
  {
   "cell_type": "code",
   "execution_count": null,
   "metadata": {},
   "outputs": [],
   "source": [
    "array2 + array3"
   ]
  },
  {
   "cell_type": "markdown",
   "metadata": {},
   "source": [
    "El resultado es: ValueError                                Traceback (most recent call last)\n",
    "/tmp/ipykernel_344/144200592.py in <module>\n",
    "----> 1 array2 + array3\n",
    "\n",
    "ValueError: operands could not be broadcast together with shapes (2,5,3) (3,2,5)\n",
    "\n",
    "No se puede sumar porque no tienen las mismas dimensiones."
   ]
  },
  {
   "cell_type": "markdown",
   "metadata": {},
   "source": [
    "\n",
    "- **Para cambiar la forma de un array y poder hacer operaciones entre arrays que tienen distintas formas hemos aprendido dos métodos:**\n",
    "\n",
    ">>.reshape()\n",
    "\n",
    ">>.transpose()\n"
   ]
  },
  {
   "cell_type": "code",
   "execution_count": 24,
   "metadata": {},
   "outputs": [
    {
     "name": "stdout",
     "output_type": "stream",
     "text": [
      "[[[ 6 18 48 33 32]\n",
      "  [47 21 30 19  7]]\n",
      "\n",
      " [[21 40  2  9 15]\n",
      "  [11 17 37  7  0]]\n",
      "\n",
      " [[24  2  5 47 42]\n",
      "  [ 3  5  6  5 44]]]\n",
      "[[[36 10 42]\n",
      "  [38 37 17]\n",
      "  [46 27 40]\n",
      "  [43 15  5]\n",
      "  [46  1 28]]\n",
      "\n",
      " [[ 1 13 22]\n",
      "  [20  7 47]\n",
      "  [27 26 24]\n",
      "  [ 0 26 10]\n",
      "  [ 5 20 46]]]\n"
     ]
    },
    {
     "data": {
      "text/plain": [
       "array([[[36, 10, 42, 38, 37],\n",
       "        [17, 46, 27, 40, 43]],\n",
       "\n",
       "       [[15,  5, 46,  1, 28],\n",
       "        [ 1, 13, 22, 20,  7]],\n",
       "\n",
       "       [[47, 27, 26, 24,  0],\n",
       "        [26, 10,  5, 20, 46]]])"
      ]
     },
     "execution_count": 24,
     "metadata": {},
     "output_type": "execute_result"
    }
   ],
   "source": [
    "print(array3)\n",
    "print(array2)\n",
    "array4 = array2.reshape((3,2,5))\n",
    "arraynueva = np.transpose(array2, (2,0,1))\n",
    "array4"
   ]
  },
  {
   "cell_type": "markdown",
   "metadata": {},
   "source": [
    "- **Utiliza estas dos funciones para cambiar la forma de los array y hacer operaciones entre ellos.**"
   ]
  },
  {
   "cell_type": "code",
   "execution_count": 26,
   "metadata": {},
   "outputs": [
    {
     "data": {
      "text/plain": [
       "array([[[42, 56, 94, 76, 78],\n",
       "        [48, 41, 57, 19, 12]],\n",
       "\n",
       "       [[31, 77, 29, 24, 16],\n",
       "        [24, 24, 63, 33, 20]],\n",
       "\n",
       "       [[66, 19, 45, 52, 70],\n",
       "        [25, 52, 30, 15, 90]]])"
      ]
     },
     "execution_count": 26,
     "metadata": {},
     "output_type": "execute_result"
    }
   ],
   "source": [
    "array3 + array4\n",
    "np.add(array3,arraynueva)"
   ]
  }
 ],
 "metadata": {
  "interpreter": {
   "hash": "a7767d930544d914483bb7fc45a359b90234f0fc056fbb3956e60e9a90a88fdd"
  },
  "kernelspec": {
   "display_name": "Python 3.9.7 ('base')",
   "language": "python",
   "name": "python3"
  },
  "language_info": {
   "codemirror_mode": {
    "name": "ipython",
    "version": 3
   },
   "file_extension": ".py",
   "mimetype": "text/x-python",
   "name": "python",
   "nbconvert_exporter": "python",
   "pygments_lexer": "ipython3",
   "version": "3.9.7"
  },
  "orig_nbformat": 4
 },
 "nbformat": 4,
 "nbformat_minor": 2
}
