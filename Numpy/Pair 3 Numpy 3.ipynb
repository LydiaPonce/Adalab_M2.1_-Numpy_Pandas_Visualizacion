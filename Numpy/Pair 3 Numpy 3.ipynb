{
 "cells": [
  {
   "cell_type": "code",
   "execution_count": 1,
   "metadata": {},
   "outputs": [],
   "source": [
    "import numpy as np"
   ]
  },
  {
   "cell_type": "markdown",
   "metadata": {},
   "source": [
    "**En esta lección hemps aprendido algunas de las operaciones matemáticas más importantes que podemos aplicar a un array. Hoy pondremos en práctica algunas de estas operaciones, además de recordar algunas de los métodos aprendidos en otras lecciones y recordar como podemos iterar por un array.**"
   ]
  },
  {
   "cell_type": "markdown",
   "metadata": {},
   "source": [
    "**1. Cread un array de tres dimensiones de 2 matrices, 3 filas y 5 columnas cuyos valores solo tengan 1 decimales. Sobre el array creado anteriormente, extraed:**"
   ]
  },
  {
   "cell_type": "code",
   "execution_count": 2,
   "metadata": {},
   "outputs": [
    {
     "data": {
      "text/plain": [
       "array([[[0.6, 0.8, 0. , 0.6, 0.6],\n",
       "        [0.3, 0.5, 0.5, 0.3, 0.4],\n",
       "        [0.1, 0.7, 0.3, 0.9, 0.7]],\n",
       "\n",
       "       [[0.3, 0.8, 0.4, 0.5, 0.2],\n",
       "        [0.4, 0.9, 0. , 0.9, 0.1],\n",
       "        [0.6, 1. , 0.9, 0.8, 0.1]]])"
      ]
     },
     "execution_count": 2,
     "metadata": {},
     "output_type": "execute_result"
    }
   ],
   "source": [
    "array =  np.random.rand(2,3,5)\n",
    "array = np.round(array, decimals =1)\n",
    "array"
   ]
  },
  {
   "cell_type": "markdown",
   "metadata": {},
   "source": [
    "**2. Calculad la media del array y almacenarlos en una variable. Redondead a un decimal.**"
   ]
  },
  {
   "cell_type": "code",
   "execution_count": 3,
   "metadata": {},
   "outputs": [
    {
     "data": {
      "text/plain": [
       "0.5"
      ]
     },
     "execution_count": 3,
     "metadata": {},
     "output_type": "execute_result"
    }
   ],
   "source": [
    "media_array = np.mean(array)\n",
    "media_array = np.round(media_array, decimals =1)\n",
    "media_array"
   ]
  },
  {
   "cell_type": "markdown",
   "metadata": {},
   "source": [
    "**3. Calculad el valor máximo del array y almacenarlos en una variable. Redondead a un decimal.**"
   ]
  },
  {
   "cell_type": "code",
   "execution_count": 4,
   "metadata": {},
   "outputs": [
    {
     "data": {
      "text/plain": [
       "1.0"
      ]
     },
     "execution_count": 4,
     "metadata": {},
     "output_type": "execute_result"
    }
   ],
   "source": [
    "max_array = np.max(array)\n",
    "max_array = np.round(max_array, decimals =1)\n",
    "max_array"
   ]
  },
  {
   "cell_type": "markdown",
   "metadata": {},
   "source": [
    "**4. Calculad el valor mínimo del array y almacenarlos en una variable. Redondead a un decimal.**"
   ]
  },
  {
   "cell_type": "code",
   "execution_count": 5,
   "metadata": {},
   "outputs": [
    {
     "data": {
      "text/plain": [
       "0.0"
      ]
     },
     "execution_count": 5,
     "metadata": {},
     "output_type": "execute_result"
    }
   ],
   "source": [
    "min_array = np.min(array)\n",
    "min_array = np.round(min_array, decimals =1)\n",
    "min_array"
   ]
  },
  {
   "cell_type": "markdown",
   "metadata": {},
   "source": [
    "**5. Cread un array vacío con la misma forma y dimensiones que el array creado anteriormente.**"
   ]
  },
  {
   "cell_type": "code",
   "execution_count": 6,
   "metadata": {},
   "outputs": [
    {
     "data": {
      "text/plain": [
       "array([[[0.6, 0.8, 0. , 0.6, 0.6],\n",
       "        [0.3, 0.5, 0.5, 0.3, 0.4],\n",
       "        [0.1, 0.7, 0.3, 0.9, 0.7]],\n",
       "\n",
       "       [[0.3, 0.8, 0.4, 0.5, 0.2],\n",
       "        [0.4, 0.9, 0. , 0.9, 0.1],\n",
       "        [0.6, 1. , 0.9, 0.8, 0.1]]])"
      ]
     },
     "execution_count": 6,
     "metadata": {},
     "output_type": "execute_result"
    }
   ],
   "source": [
    "array2 = np.empty((2,3,5))\n",
    "array2\n"
   ]
  },
  {
   "cell_type": "markdown",
   "metadata": {},
   "source": [
    "\n",
    "**Vamos a reemplazar los valores de la matriz vacía que nos acabamos de crear pero basándonos en los valores del primer array bajo las siguientes condiciones:**\n",
    "\n",
    ">>- Si el valor del array es igual que la media, se reemplaza por \"A\".\n",
    ">>- Si el valor del array es mayor que la media, se reemplaza por \"B\".\n",
    ">>- Si el valor del array es menor que la media, se reemplaza por \"C\".\n",
    ">>- Si el valor es igual que el máximo, se reemplaza por \"D\".\n",
    ">>- Si el valor es igual que el mínimo, se reemplaza por \"E\"."
   ]
  },
  {
   "cell_type": "code",
   "execution_count": 7,
   "metadata": {},
   "outputs": [
    {
     "data": {
      "text/plain": [
       "array([[['B', 'B', 'E', 'B', 'B'],\n",
       "        ['C', 'A', 'A', 'C', 'C'],\n",
       "        ['C', 'B', 'C', 'B', 'B']],\n",
       "\n",
       "       [['C', 'B', 'C', 'A', 'C'],\n",
       "        ['C', 'B', 'E', 'B', 'C'],\n",
       "        ['B', 'D', 'B', 'B', 'C']]], dtype='<U1')"
      ]
     },
     "execution_count": 7,
     "metadata": {},
     "output_type": "execute_result"
    }
   ],
   "source": [
    "array2 = np.empty((2,3,5), dtype= str)\n",
    "\n",
    "for matriz in range(array.shape[0]):\n",
    "    for fila in range(array.shape[1]):\n",
    "        for columnas in range(array.shape[2]):\n",
    "            n = array[matriz][fila][columnas]\n",
    "            \n",
    "            if n == media_array:\n",
    "                letra = \"A\"\n",
    "            elif n == max_array:\n",
    "                letra = \"D\"\n",
    "            elif n == min_array:\n",
    "                letra = \"E\"\n",
    "            elif n > media_array:\n",
    "                letra = \"B\"\n",
    "            elif n < media_array:\n",
    "                letra = \"C\"\n",
    "            \n",
    "            array2[matriz][fila][columnas] = letra\n",
    "\n",
    "array2"
   ]
  },
  {
   "cell_type": "markdown",
   "metadata": {},
   "source": [
    "**💡 Pista 💡 Tendréis que iterar por el array y cambiar los valores de la matriz vacía. Para eso tendremos que usar distintos condicionales.**"
   ]
  },
  {
   "cell_type": "markdown",
   "metadata": {},
   "source": [
    "-------------------"
   ]
  },
  {
   "cell_type": "markdown",
   "metadata": {},
   "source": [
    "**Estupendo, tenemos un array con strings. Ahora realizaremos un ejercicio similar al anterior, pero en este caso nos crearemos un array vacío unidimensional de 30 elementos.**\n",
    "\n",
    "**Al final de este ejercicio acabaremos teniendo un array de tres dimensiones con la misma forma que el primero que nos creamos.**\n",
    "**En este caso:**"
   ]
  },
  {
   "cell_type": "markdown",
   "metadata": {},
   "source": [
    ">>- Si el valor del array creado en el ejercicio anterior es \"A\" o \"B\" lo reemplazaremos por 1\n",
    ">>- Si el valor del array creado en el ejercicio anterior es \"C\" o \"D\" lo reemplazaremos por 2\n",
    ">>- Si el valor del array creado en el ejercicio anterior es \"E\" lo reemplazaremos por 3."
   ]
  },
  {
   "cell_type": "markdown",
   "metadata": {},
   "source": [
    "**Una vez que hayas reemplazado todos los valores cambiad la forma del array para que sea de tres dimensiones, con 2 matrices, 3 filas y 5 columnas.**"
   ]
  },
  {
   "cell_type": "code",
   "execution_count": 21,
   "metadata": {},
   "outputs": [
    {
     "data": {
      "text/plain": [
       "array([[[1, 1, 3, 1, 1],\n",
       "        [2, 1, 1, 2, 2],\n",
       "        [2, 1, 2, 1, 1]],\n",
       "\n",
       "       [[2, 1, 2, 1, 2],\n",
       "        [2, 1, 3, 1, 2],\n",
       "        [1, 2, 1, 1, 2]]])"
      ]
     },
     "execution_count": 21,
     "metadata": {},
     "output_type": "execute_result"
    }
   ],
   "source": [
    "array3= np.empty(shape=30,dtype = int)\n",
    "index = 0\n",
    "\n",
    "for matriz in range(array2.shape[0]):\n",
    "    for fila in range(array2.shape[1]):\n",
    "        for columnas in range(array2.shape[2]):\n",
    "            letra = array2[matriz][fila][columnas]\n",
    "\n",
    "            if  letra == 'A' or letra == 'B':\n",
    "                n = 1\n",
    "            elif letra == 'C' or letra == 'D':\n",
    "                n = 2\n",
    "            else:\n",
    "                n = 3\n",
    "                \n",
    "            array3[index] = n\n",
    "            index += 1\n",
    "\n",
    "array3= np.reshape(array3,(2,3,5))\n",
    "\n",
    "array3"
   ]
  }
 ],
 "metadata": {
  "interpreter": {
   "hash": "40d3a090f54c6569ab1632332b64b2c03c39dcf918b08424e98f38b5ae0af88f"
  },
  "kernelspec": {
   "display_name": "Python 3.9.7 ('base')",
   "language": "python",
   "name": "python3"
  },
  "language_info": {
   "codemirror_mode": {
    "name": "ipython",
    "version": 3
   },
   "file_extension": ".py",
   "mimetype": "text/x-python",
   "name": "python",
   "nbconvert_exporter": "python",
   "pygments_lexer": "ipython3",
   "version": "3.10.4"
  },
  "orig_nbformat": 4
 },
 "nbformat": 4,
 "nbformat_minor": 2
}
