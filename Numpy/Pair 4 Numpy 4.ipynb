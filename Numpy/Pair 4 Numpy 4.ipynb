{
 "cells": [
  {
   "cell_type": "code",
   "execution_count": 1,
   "metadata": {},
   "outputs": [],
   "source": [
    "import numpy as np"
   ]
  },
  {
   "cell_type": "markdown",
   "metadata": {},
   "source": [
    "1. **¿Cómo podemos crear dos arrays de dos dimensiones usando el método random_sample que tengan los mismos valores?**"
   ]
  },
  {
   "cell_type": "code",
   "execution_count": 2,
   "metadata": {},
   "outputs": [
    {
     "data": {
      "text/plain": [
       "array([[4.17022005e-01, 7.20324493e-01, 1.14374817e-04, 3.02332573e-01,\n",
       "        1.46755891e-01],\n",
       "       [9.23385948e-02, 1.86260211e-01, 3.45560727e-01, 3.96767474e-01,\n",
       "        5.38816734e-01],\n",
       "       [4.19194514e-01, 6.85219500e-01, 2.04452250e-01, 8.78117436e-01,\n",
       "        2.73875932e-02]])"
      ]
     },
     "execution_count": 2,
     "metadata": {},
     "output_type": "execute_result"
    }
   ],
   "source": [
    "#Al plantar una semilla, podemos hacer que nuestros arrays tengan los mismos valores\n",
    "np.random.seed(1)\n",
    "array = np.random.sample((3,5))\n",
    "array"
   ]
  },
  {
   "cell_type": "code",
   "execution_count": 3,
   "metadata": {},
   "outputs": [
    {
     "data": {
      "text/plain": [
       "array([[4.17022005e-01, 7.20324493e-01, 1.14374817e-04, 3.02332573e-01,\n",
       "        1.46755891e-01],\n",
       "       [9.23385948e-02, 1.86260211e-01, 3.45560727e-01, 3.96767474e-01,\n",
       "        5.38816734e-01],\n",
       "       [4.19194514e-01, 6.85219500e-01, 2.04452250e-01, 8.78117436e-01,\n",
       "        2.73875932e-02]])"
      ]
     },
     "execution_count": 3,
     "metadata": {},
     "output_type": "execute_result"
    }
   ],
   "source": [
    "np.random.seed(1)\n",
    "array1 = np.random.sample((3,5))\n",
    "array1"
   ]
  },
  {
   "cell_type": "markdown",
   "metadata": {},
   "source": [
    "**2. Cread los siguientes arrays:**"
   ]
  },
  {
   "cell_type": "markdown",
   "metadata": {},
   "source": [
    "- **Un array de tres dimensiones con distribución uniforme de 2 x 3 x 5, con números entre 0 y 10, que no tengan decimales y extrae sus valores únicos almacenándolos en una variable.**"
   ]
  },
  {
   "cell_type": "code",
   "execution_count": 4,
   "metadata": {},
   "outputs": [
    {
     "data": {
      "text/plain": [
       "array([ 0.,  1.,  2.,  3.,  4.,  5.,  6.,  7.,  8.,  9., 10.])"
      ]
     },
     "execution_count": 4,
     "metadata": {},
     "output_type": "execute_result"
    }
   ],
   "source": [
    "array2 = np.random.uniform(0,10, size = (3, 2, 5))\n",
    "array2 = np.round(array2)\n",
    "valoresarray2 = np.unique(array2)\n",
    "valoresarray2"
   ]
  },
  {
   "cell_type": "markdown",
   "metadata": {},
   "source": [
    "- **Un array de tres dimensiones con distribución binomial de 2 x 3 x 5, con probabilidad de 0.3 y número de pruebas igual a 10. Igual que antes guarda los datos en una variable.**"
   ]
  },
  {
   "cell_type": "code",
   "execution_count": 5,
   "metadata": {},
   "outputs": [
    {
     "data": {
      "text/plain": [
       "array([[[3, 5, 2, 2, 1],\n",
       "        [0, 4, 2, 2, 3],\n",
       "        [1, 3, 1, 3, 4]],\n",
       "\n",
       "       [[1, 3, 4, 3, 1],\n",
       "        [3, 4, 3, 5, 3],\n",
       "        [5, 1, 1, 4, 3]]])"
      ]
     },
     "execution_count": 5,
     "metadata": {},
     "output_type": "execute_result"
    }
   ],
   "source": [
    "array3 = np.random.binomial(10, 0.3, size = (2, 3,5))\n",
    "array3"
   ]
  },
  {
   "cell_type": "markdown",
   "metadata": {},
   "source": [
    "**3. En esta lección hemos aprendido algunos métodos de teórias de conjuntos. Usando los arrays de elementos únicos obtenidos en el ejercicio anterior realizad las siguientes operaciones:**"
   ]
  },
  {
   "cell_type": "markdown",
   "metadata": {},
   "source": [
    "- **Elementos comunes entre los dos arrays**"
   ]
  },
  {
   "cell_type": "code",
   "execution_count": 6,
   "metadata": {},
   "outputs": [
    {
     "data": {
      "text/plain": [
       "array([0., 1., 2., 3., 4., 5.])"
      ]
     },
     "execution_count": 6,
     "metadata": {},
     "output_type": "execute_result"
    }
   ],
   "source": [
    "interseccion = np.intersect1d(array2, array3)\n",
    "interseccion"
   ]
  },
  {
   "cell_type": "markdown",
   "metadata": {},
   "source": [
    "- **Unión de los dos arrays**"
   ]
  },
  {
   "cell_type": "code",
   "execution_count": 7,
   "metadata": {},
   "outputs": [
    {
     "data": {
      "text/plain": [
       "array([ 0.,  1.,  2.,  3.,  4.,  5.,  6.,  7.,  8.,  9., 10.])"
      ]
     },
     "execution_count": 7,
     "metadata": {},
     "output_type": "execute_result"
    }
   ],
   "source": [
    "union = np.union1d(array2, array3)\n",
    "union\n",
    "#Une los valores de las arrays,sin que haya ningún duplicado"
   ]
  },
  {
   "cell_type": "markdown",
   "metadata": {},
   "source": [
    "- **¿Qué elementos están en el array derivado de la distribución uniforme y no en los únicos de la distribución binomial? Extrae los valores númericos.**\n",
    " \n",
    "   >*⚠️ Explicar cada uno de los outputs que os salgan. Que significa cada una de estas operaciones que hemos ido extrayendo?*"
   ]
  },
  {
   "cell_type": "code",
   "execution_count": 8,
   "metadata": {},
   "outputs": [
    {
     "data": {
      "text/plain": [
       "array([ 6.,  7.,  8.,  9., 10.])"
      ]
     },
     "execution_count": 8,
     "metadata": {},
     "output_type": "execute_result"
    }
   ],
   "source": [
    "diferencia = np.setdiff1d(array2, array3)\n",
    "diferencia\n",
    "#Son los valores únicos que se encuentran en array2 y no están en array3"
   ]
  },
  {
   "cell_type": "markdown",
   "metadata": {},
   "source": [
    "4. **Cread dos arrays usando el método random.rand de Numpy con 80 elementos cada uno con números del 1-100, con los siguientes nombres array1 y array2.**\n"
   ]
  },
  {
   "cell_type": "code",
   "execution_count": 9,
   "metadata": {},
   "outputs": [
    {
     "data": {
      "text/plain": [
       "array([ 8, 46, 69, 58, 83, 97, 14, 11, 24, 82,  8, 25, 75, 93, 21, 33, 13,\n",
       "       66, 95, 61, 25, 83, 98,  3, 93, 99, 11, 55, 97, 83, 87, 71, 67, 72,\n",
       "       49, 55, 16,  6, 18, 43, 21, 49, 23, 14, 98, 54, 85, 11, 97, 56, 62,\n",
       "       57, 90, 22, 97, 84, 26, 15, 14, 85, 44,  7, 78, 57, 60, 16, 25, 10,\n",
       "       67, 72, 54, 70, 37, 22, 41, 78, 92, 50, 48, 78])"
      ]
     },
     "execution_count": 9,
     "metadata": {},
     "output_type": "execute_result"
    }
   ],
   "source": [
    "arrayuno = np.random.randint(1,100, (80))\n",
    "arrayuno\n",
    "#Guada los contó uno por uno para verificar"
   ]
  },
  {
   "cell_type": "code",
   "execution_count": 10,
   "metadata": {},
   "outputs": [
    {
     "data": {
      "text/plain": [
       "array([41, 79, 46, 88, 17, 29, 46, 68, 67, 79, 47,  1, 30, 64, 76, 36, 54,\n",
       "       94, 34,  3, 85, 84, 49, 55, 33, 29, 56, 83, 32, 29, 95, 75,  9, 33,\n",
       "        9, 85, 78, 51, 80, 42, 65, 84, 25, 21, 45, 16, 31, 92, 15, 20, 27,\n",
       "       87,  8, 54, 48, 61, 35, 33, 20, 68, 25, 84, 95, 39, 48,  6, 80, 64,\n",
       "       88, 33, 43, 75, 67, 89, 99, 31, 18, 69, 65, 61])"
      ]
     },
     "execution_count": 10,
     "metadata": {},
     "output_type": "execute_result"
    }
   ],
   "source": [
    "arraydos = np.random.randint(1,100, (80))\n",
    "arraydos"
   ]
  },
  {
   "cell_type": "markdown",
   "metadata": {},
   "source": [
    "- **Extraed los valores únicos de cada uno de los arrays y los guardáis en variables en las que se les llame array1 y array2.**\n",
    "\n"
   ]
  },
  {
   "cell_type": "code",
   "execution_count": 11,
   "metadata": {},
   "outputs": [
    {
     "data": {
      "text/plain": [
       "array([ 3,  6,  7,  8, 10, 11, 13, 14, 15, 16, 18, 21, 22, 23, 24, 25, 26,\n",
       "       33, 37, 41, 43, 44, 46, 48, 49, 50, 54, 55, 56, 57, 58, 60, 61, 62,\n",
       "       66, 67, 69, 70, 71, 72, 75, 78, 82, 83, 84, 85, 87, 90, 92, 93, 95,\n",
       "       97, 98, 99])"
      ]
     },
     "execution_count": 11,
     "metadata": {},
     "output_type": "execute_result"
    }
   ],
   "source": [
    "arrayuno = np.unique(arrayuno)\n",
    "arrayuno"
   ]
  },
  {
   "cell_type": "code",
   "execution_count": 12,
   "metadata": {},
   "outputs": [
    {
     "data": {
      "text/plain": [
       "array([ 1,  3,  6,  8,  9, 15, 16, 17, 18, 20, 21, 25, 27, 29, 30, 31, 32,\n",
       "       33, 34, 35, 36, 39, 41, 42, 43, 45, 46, 47, 48, 49, 51, 54, 55, 56,\n",
       "       61, 64, 65, 67, 68, 69, 75, 76, 78, 79, 80, 83, 84, 85, 87, 88, 89,\n",
       "       92, 94, 95, 99])"
      ]
     },
     "execution_count": 12,
     "metadata": {},
     "output_type": "execute_result"
    }
   ],
   "source": [
    "arraydos = np.unique(arraydos)\n",
    "arraydos"
   ]
  },
  {
   "cell_type": "markdown",
   "metadata": {},
   "source": [
    "- **Identificad los elementos presentes en el array1 pero no en el array2 y asiganarlo a una variable que se llame array3.**\n",
    "\n"
   ]
  },
  {
   "cell_type": "code",
   "execution_count": 13,
   "metadata": {},
   "outputs": [
    {
     "data": {
      "text/plain": [
       "array([ 7, 10, 11, 13, 14, 22, 23, 24, 26, 37, 44, 50, 57, 58, 60, 62, 66,\n",
       "       70, 71, 72, 82, 90, 93, 97, 98])"
      ]
     },
     "execution_count": 13,
     "metadata": {},
     "output_type": "execute_result"
    }
   ],
   "source": [
    "arraytres = np.setdiff1d(arrayuno, arraydos)\n",
    "arraytres"
   ]
  },
  {
   "cell_type": "markdown",
   "metadata": {},
   "source": [
    "- **Identificad los elementos presentes en el array2 pero no en el array1 y asiganarlo a una variable que se llame array4.**\n"
   ]
  },
  {
   "cell_type": "code",
   "execution_count": 14,
   "metadata": {},
   "outputs": [
    {
     "data": {
      "text/plain": [
       "array([ 1,  9, 17, 20, 27, 29, 30, 31, 32, 34, 35, 36, 39, 42, 45, 47, 51,\n",
       "       64, 65, 68, 76, 79, 80, 88, 89, 94])"
      ]
     },
     "execution_count": 14,
     "metadata": {},
     "output_type": "execute_result"
    }
   ],
   "source": [
    "arraycuatro = np.setdiff1d(arraydos, arrayuno)\n",
    "arraycuatro"
   ]
  },
  {
   "cell_type": "markdown",
   "metadata": {},
   "source": [
    "- **Identificad los elementos presentes en ambos arrays y asiganarlos a una variable que se llame array5.**\n"
   ]
  },
  {
   "cell_type": "code",
   "execution_count": 15,
   "metadata": {},
   "outputs": [
    {
     "data": {
      "text/plain": [
       "array([ 3,  6,  8, 15, 16, 18, 21, 25, 33, 41, 43, 46, 48, 49, 54, 55, 56,\n",
       "       61, 67, 69, 75, 78, 83, 84, 85, 87, 92, 95, 99])"
      ]
     },
     "execution_count": 15,
     "metadata": {},
     "output_type": "execute_result"
    }
   ],
   "source": [
    "arraycinco = np.intersect1d(arrayuno, arraydos)\n",
    "arraycinco"
   ]
  },
  {
   "cell_type": "markdown",
   "metadata": {},
   "source": [
    "- **¿Cuál es la relación que existe entre todos estos arrays?**\n",
    "\n",
    "> **💡 Pista 💡 Tendréis que usar las longitudes de cada uno de los arrays creados.**"
   ]
  },
  {
   "cell_type": "code",
   "execution_count": 16,
   "metadata": {},
   "outputs": [
    {
     "name": "stdout",
     "output_type": "stream",
     "text": [
      "54\n",
      "55\n",
      "25\n",
      "26\n",
      "29\n"
     ]
    }
   ],
   "source": [
    "print(len(arrayuno))\n",
    "print(len(arraydos))\n",
    "print(len(arraytres))\n",
    "print(len(arraycuatro))\n",
    "print(len(arraycinco))"
   ]
  },
  {
   "cell_type": "code",
   "execution_count": 17,
   "metadata": {},
   "outputs": [
    {
     "name": "stdout",
     "output_type": "stream",
     "text": [
      "True\n"
     ]
    }
   ],
   "source": [
    "print(len(arrayuno) + len(arraycuatro) - len(arraycinco)  == len(arraydos) + len(arraytres) - len(arraycinco))"
   ]
  }
 ],
 "metadata": {
  "interpreter": {
   "hash": "a7767d930544d914483bb7fc45a359b90234f0fc056fbb3956e60e9a90a88fdd"
  },
  "kernelspec": {
   "display_name": "Python 3.9.7 ('base')",
   "language": "python",
   "name": "python3"
  },
  "language_info": {
   "codemirror_mode": {
    "name": "ipython",
    "version": 3
   },
   "file_extension": ".py",
   "mimetype": "text/x-python",
   "name": "python",
   "nbconvert_exporter": "python",
   "pygments_lexer": "ipython3",
   "version": "3.9.7"
  },
  "orig_nbformat": 4
 },
 "nbformat": 4,
 "nbformat_minor": 2
}
